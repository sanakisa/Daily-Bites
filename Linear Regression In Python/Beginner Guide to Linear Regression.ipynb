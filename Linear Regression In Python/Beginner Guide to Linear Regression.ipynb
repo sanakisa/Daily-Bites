{
 "cells": [
  {
   "cell_type": "markdown",
   "metadata": {},
   "source": [
    "Two types of Supervised machine learning algorithms :\n",
    "Regression and Classification .\n",
    "The former predicts continuous value whereas the later predicts discrete values.\n",
    "In this we will have a brief look hoe regression works for two or multiple variables using scikit-learn."
   ]
  },
  {
   "cell_type": "raw",
   "metadata": {},
   "source": [
    "Linear Regression Theory"
   ]
  },
  {
   "cell_type": "markdown",
   "metadata": {},
   "source": [
    "Linear in algebra means linear relationship between two or more variables.\n",
    "Linear regression performs the task to predict the independent variable value based on the depenent variables.If we present the independent on (x) axis and dependent on (y) axis , it gives the straight line that best fits the data point.\n",
    "The equation of the above line is :\n",
    "Y= mx + b\n",
    "Where b is the intercept and m is the slope of the line. So basically, the linear regression algorithm gives us the most optimal value for the intercept and the slope (in two dimensions). The y and x variables remain the same, since they are the data features and cannot be changed. The values that we can control are the intercept(b) and slope(m). There can be multiple straight lines depending upon the values of intercept and slope. Basically what the linear regression algorithm does is it fits multiple lines on the data points and returns the line that results in the least error.\n",
    "\n",
    "\n",
    "A regression model involving multiple variables can be represented as:\n",
    "y = b0 + m1b1 + m2b2 + m3b3 + … … mnbn\n",
    "This is the equation of a hyperplane. Remember, a linear regression model in two dimensions is a straight line; in three dimensions it is a plane, and in more than three dimensions, a hyperplane."
   ]
  },
  {
   "cell_type": "code",
   "execution_count": null,
   "metadata": {},
   "outputs": [],
   "source": []
  }
 ],
 "metadata": {
  "kernelspec": {
   "display_name": "Python 3",
   "language": "python",
   "name": "python3"
  },
  "language_info": {
   "codemirror_mode": {
    "name": "ipython",
    "version": 3
   },
   "file_extension": ".py",
   "mimetype": "text/x-python",
   "name": "python",
   "nbconvert_exporter": "python",
   "pygments_lexer": "ipython3",
   "version": "3.6.4"
  }
 },
 "nbformat": 4,
 "nbformat_minor": 2
}
